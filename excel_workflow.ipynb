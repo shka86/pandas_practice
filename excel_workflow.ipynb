{
 "cells": [
  {
   "cell_type": "markdown",
   "metadata": {},
   "source": [
    "# pandas excelワークフロー\n",
    "\n",
    "エクセルの関数とかマクロとかって、凝れば凝るほど見通しが悪くなって、手がつけられなくなる。\n",
    "でも他人とやり取りするときはエクセルのほうが見てくれるんだよなぁ。\n",
    "\n",
    "あと、openpyxlってOfficeの仕様変更があったら困りそうであまり使いたくない。\n",
    "ざっくり取り込むことだけに使って、後の作業はpandasに渡したほうがいいと思うんで、\n",
    "データフレームをある程度整えるところまでをまとめる。"
   ]
  },
  {
   "cell_type": "code",
   "execution_count": 99,
   "metadata": {},
   "outputs": [
    {
     "name": "stdout",
     "output_type": "stream",
     "text": [
      "<openpyxl.workbook.workbook.Workbook object at 0x1353AAF0>\n",
      "['Sheet1']\n",
      "<Worksheet \"Sheet1\">\n",
      "   0           1          2       3              4    5           6     7\n",
      "0  0  First Name  Last Name  Gender        Country  Age        Date    Id\n",
      "1  1       Dulce      Abril  Female  United States   32  15/10/2017  1562\n",
      "2  2        Mara  Hashimoto  Female  Great Britain   25  16/08/2016  1582\n",
      "3  3      Philip       Gent    Male         France   36  21/05/2015  2587\n",
      "4  4    Kathleen     Hanner  Female  United States   25  15/10/2017  3549\n",
      "5  5     Nereida    Magwood  Female  United States   58  16/08/2016  2468\n",
      "6  6      Gaston      Brumm    Male  United States   24  21/05/2015  2554\n",
      "7  7        Etta       Hurn  Female  Great Britain   56  15/10/2017  3598\n",
      "8  8     Earlean     Melgar  Female  United States   27  16/08/2016  2456\n",
      "9  9    Vincenza    Weiland  Female  United States   40  21/05/2015  6548\n"
     ]
    }
   ],
   "source": [
    "import openpyxl as xl\n",
    "import pandas as pd\n",
    "pd.options.display.colheader_justify = 'right'\n",
    "pd.set_option('display.unicode.east_asian_width', True)\n",
    "\n",
    "# エクセルシートを読む\n",
    "wb = xl.load_workbook(\"file_example_XLSX_10.xlsx\")\n",
    "print(wb)\n",
    "print(wb.sheetnames)\n",
    "ws = wb[\"Sheet1\"]\n",
    "print(ws)\n",
    "data = ws.values\n",
    "# print(data)\n",
    "\n",
    "# pandasデータフレームに変換する。ただ変換する。\n",
    "df_normal = pd.DataFrame(data)\n",
    "print(df_normal)"
   ]
  },
  {
   "cell_type": "code",
   "execution_count": 100,
   "metadata": {},
   "outputs": [
    {
     "name": "stdout",
     "output_type": "stream",
     "text": [
      "   0 First Name  Last Name  Gender        Country  Age        Date    Id\n",
      "0  1      Dulce      Abril  Female  United States   32  15/10/2017  1562\n",
      "1  2       Mara  Hashimoto  Female  Great Britain   25  16/08/2016  1582\n",
      "2  3     Philip       Gent    Male         France   36  21/05/2015  2587\n",
      "3  4   Kathleen     Hanner  Female  United States   25  15/10/2017  3549\n",
      "4  5    Nereida    Magwood  Female  United States   58  16/08/2016  2468\n",
      "5  6     Gaston      Brumm    Male  United States   24  21/05/2015  2554\n",
      "6  7       Etta       Hurn  Female  Great Britain   56  15/10/2017  3598\n",
      "7  8    Earlean     Melgar  Female  United States   27  16/08/2016  2456\n",
      "8  9   Vincenza    Weiland  Female  United States   40  21/05/2015  6548\n"
     ]
    }
   ],
   "source": [
    "# 特定の行を列名にする\n",
    "data = ws.values\n",
    "\n",
    "# list化して[0]をヘッダーに、[1:]をデータにする\n",
    "data = list(data)\n",
    "df_colmunname = pd.DataFrame(data[1:], columns=data[0])\n",
    "print(df_colmunname)"
   ]
  },
  {
   "cell_type": "code",
   "execution_count": 101,
   "metadata": {},
   "outputs": [
    {
     "name": "stdout",
     "output_type": "stream",
     "text": [
      "  First Name  Last Name        Country  Age\n",
      "0      Dulce      Abril  United States   32\n",
      "1       Mara  Hashimoto  Great Britain   25\n",
      "2     Philip       Gent         France   36\n",
      "3   Kathleen     Hanner  United States   25\n",
      "4    Nereida    Magwood  United States   58\n",
      "5     Gaston      Brumm  United States   24\n",
      "6       Etta       Hurn  Great Britain   56\n",
      "7    Earlean     Melgar  United States   27\n",
      "8   Vincenza    Weiland  United States   40\n"
     ]
    }
   ],
   "source": [
    "# シート中の特定の範囲をデータテーブルにする\n",
    "# openpyxlでやる方法もあるが、pandasのほうが見通しがいいと思う\n",
    "# 任意の列を抜き出す\n",
    "df_cx = df_colmunname.filter(items=[\"First Name\", \"Last Name\", \"Country\", \"Age\"])\n",
    "print(df_cx)"
   ]
  },
  {
   "cell_type": "code",
   "execution_count": 102,
   "metadata": {},
   "outputs": [
    {
     "name": "stdout",
     "output_type": "stream",
     "text": [
      "   0  Gender        Date    Id\n",
      "0  1  Female  15/10/2017  1562\n",
      "1  2  Female  16/08/2016  1582\n",
      "2  3    Male  21/05/2015  2587\n",
      "3  4  Female  15/10/2017  3549\n",
      "4  5  Female  16/08/2016  2468\n",
      "5  6    Male  21/05/2015  2554\n",
      "6  7  Female  15/10/2017  3598\n",
      "7  8  Female  16/08/2016  2456\n",
      "8  9  Female  21/05/2015  6548\n"
     ]
    }
   ],
   "source": [
    "# 任意の列を削る\n",
    "df_cd = df_colmunname.drop(columns=[\"First Name\", \"Last Name\", \"Country\", \"Age\"])\n",
    "print(df_cd)"
   ]
  },
  {
   "cell_type": "code",
   "execution_count": 103,
   "metadata": {},
   "outputs": [
    {
     "name": "stdout",
     "output_type": "stream",
     "text": [
      "   0 First Name Last Name  Gender        Country  Age        Date    Id\n",
      "3  4   Kathleen    Hanner  Female  United States   25  15/10/2017  3549\n",
      "4  5    Nereida   Magwood  Female  United States   58  16/08/2016  2468\n",
      "5  6     Gaston     Brumm    Male  United States   24  21/05/2015  2554\n"
     ]
    }
   ],
   "source": [
    "# 任意の行を抜き出す\n",
    "# 3-5行目を抜き出したい場合\n",
    "df_rx = df_colmunname[3:6]\n",
    "print(df_rx)\n"
   ]
  },
  {
   "cell_type": "code",
   "execution_count": 104,
   "metadata": {},
   "outputs": [
    {
     "name": "stdout",
     "output_type": "stream",
     "text": [
      "   0 First Name  Last Name  Gender        Country  Age        Date    Id\n",
      "0  1      Dulce      Abril  Female  United States   32  15/10/2017  1562\n",
      "1  2       Mara  Hashimoto  Female  Great Britain   25  16/08/2016  1582\n",
      "2  3     Philip       Gent    Male         France   36  21/05/2015  2587\n",
      "6  7       Etta       Hurn  Female  Great Britain   56  15/10/2017  3598\n",
      "7  8    Earlean     Melgar  Female  United States   27  16/08/2016  2456\n",
      "8  9   Vincenza    Weiland  Female  United States   40  21/05/2015  6548\n"
     ]
    }
   ],
   "source": [
    "# 任意の行を削る\n",
    "# 3-5行目を消したい場合\n",
    "df_rd = df_colmunname.drop(range(3,6))\n",
    "print(df_rd)"
   ]
  },
  {
   "cell_type": "markdown",
   "metadata": {},
   "source": [
    "## Requirement\n",
    "- python3  \n",
    "    - Python 3.8.1 で動作確認\n",
    "    - pandas\n",
    "    - openpyxl\n",
    "\n",
    "## Special Thanks\n",
    "[file-examples.com](https://file-examples.com/)  \n",
    "for file_example_XLSX_10.xlsx.\n",
    "\n",
    "## Licence\n",
    "\n",
    "[MIT](https://github.com/shka86/foo/blob/master/LICENCE)\n",
    "\n",
    "## Author\n",
    "\n",
    "[shka86](https://github.com/shka86)"
   ]
  }
 ],
 "metadata": {
  "interpreter": {
   "hash": "b60e327d50ed05d49bdd7dd56b21e38d5107a1273dbc3617d8cf10c9f7087797"
  },
  "kernelspec": {
   "display_name": "Python 3.8.1 32-bit",
   "language": "python",
   "name": "python3"
  },
  "language_info": {
   "codemirror_mode": {
    "name": "ipython",
    "version": 3
   },
   "file_extension": ".py",
   "mimetype": "text/x-python",
   "name": "python",
   "nbconvert_exporter": "python",
   "pygments_lexer": "ipython3",
   "version": "3.8.1"
  },
  "orig_nbformat": 4
 },
 "nbformat": 4,
 "nbformat_minor": 2
}
