{
 "cells": [
  {
   "cell_type": "markdown",
   "metadata": {},
   "source": [
    "# pandasめも  \n",
    "\n",
    "pandasは高機能なのでググるとたくさんの情報が出てくる。\n",
    "目的は同じでもやり方は多様だから、毎回調べていると一向に定着しないし、メンテナンスもしんどくなってくる。\n",
    "よってお決まりの方法をいくつか記録しておく。\n",
    "\n",
    "\n",
    "あくまでpythonを仕事の効率化ツールとして使うことを想定している。\n",
    "細かい例外処理や速度の観点はあまり重要視していない。\n",
    "それらが求められる場面に出くわしたらその時に考えりゃいい。\n",
    "\n",
    "\n",
    "- [表示を整える](#表示を整える)\n",
    "    手間なしで他人に見せられるように見栄えを整える。\n",
    "\n",
    "- [データを追加する](#データを追加する)\n",
    "    - 行を追加していく（列の項目を先に決めておく）\n",
    "    - 列を追加していく（行の項目を先に決めておく）\n",
    "\n",
    "- データを変更する\n",
    "    - セルを選択して値を変更する\n",
    "    - 関数を適用する\n",
    "\n",
    "- 集計\n",
    "    - 列の要素をカウントする\n",
    "\n",
    "- データを抽出する\n",
    "    - 条件に合う行・列を抽出する\n",
    "\n",
    "\n"
   ]
  },
  {
   "cell_type": "code",
   "execution_count": null,
   "metadata": {},
   "outputs": [],
   "source": [
    "import pandas as pd\n",
    "\n",
    "# サンプルデータ 文字列系\n",
    "df_str = pd.DataFrame(\n",
    "    index=['行0', '行1', '行2'],\n",
    "    columns=['列0', '列1', '列2'],\n",
    "    data=[\n",
    "        ['行0列0', '行0列1', '行0列2'],\n",
    "        ['行1列0', '行1列1', '行1列2'],\n",
    "        ['行2列0', '行2列1', '行2列2'],\n",
    "    ]\n",
    ")\n",
    "\n",
    "print(df_str)\n"
   ]
  },
  {
   "cell_type": "code",
   "execution_count": null,
   "metadata": {},
   "outputs": [],
   "source": [
    "import pandas as pd\n",
    "\n",
    "# サンプルデータ 数値系\n",
    "df_num = pd.DataFrame(\n",
    "    index=['行0', '行1', '行2'],\n",
    "    columns=['列0', '列1', '列2'],\n",
    "    data=[\n",
    "        [0, 1, 2],\n",
    "        [0.0, 11.1, 0.00022],\n",
    "        [0e0, 1e-15, 2e9],\n",
    "    ]\n",
    ")\n",
    "\n",
    "print(df_num)\n"
   ]
  },
  {
   "cell_type": "markdown",
   "metadata": {},
   "source": [
    "## 表示を整える"
   ]
  },
  {
   "cell_type": "code",
   "execution_count": null,
   "metadata": {},
   "outputs": [],
   "source": [
    "# 有効数字(小数点以下をそろえる)\n",
    "pd.options.display.float_format = '{:.3f}'.format\n",
    "print(df_num)"
   ]
  },
  {
   "cell_type": "code",
   "execution_count": null,
   "metadata": {},
   "outputs": [],
   "source": [
    "# 有効数字(全体の桁数をそろえる)\n",
    "pd.options.display.float_format = '{:.6g}'.format\n",
    "print(df_num)"
   ]
  },
  {
   "cell_type": "code",
   "execution_count": null,
   "metadata": {},
   "outputs": [],
   "source": [
    "# 表示を省略しない\n",
    "# デフォルトでは、大きなテーブルの真ん中が省略されるが、それを略さずに表示する。\n",
    "pd.options.display.max_rows = None"
   ]
  },
  {
   "cell_type": "code",
   "execution_count": null,
   "metadata": {},
   "outputs": [],
   "source": [
    "# アライメント系\n",
    "\n",
    "# 日本語の桁数をそろえる。formatで桁数をそろえるときに、\n",
    "# これを設定しないと2バイト文字が1文字でカウントされてずれる。\n",
    "pd.set_option('display.unicode.east_asian_width', True)\n",
    "\n",
    "# 左寄せ\n",
    "pd.options.display.colheader_justify = 'left'\n",
    "print(df_str)\n",
    "\n",
    "# 中寄せ\n",
    "pd.options.display.colheader_justify = 'center'\n",
    "print(df_str)\n",
    "\n",
    "# 右寄せ\n",
    "pd.options.display.colheader_justify = 'right'\n",
    "print(df_str)"
   ]
  },
  {
   "cell_type": "code",
   "execution_count": null,
   "metadata": {},
   "outputs": [],
   "source": [
    "# 工学的記数法/工学表記\n",
    "import decimal \n",
    "\n",
    "# pandasだと指数部分が e+02 とか e-07 とかになる。\n",
    "# キロとかマイクロとかの単位で表示してくれると楽なのに。\n",
    "# 多少無理やりだが decimal ライブラリを使う方法を用意しておく\n",
    "# ただし、全部が全部工学表記になるわけではなさそう。\n",
    "# 実は↓でいい説\n",
    "# pd.options.display.float_format = '{:.3g}'.format\n",
    "\n",
    "def conv_num_to_eng_string(x):\n",
    "    if type(x) in [int, float, complex]:\n",
    "        x = decimal.Decimal(str(x)).normalize().to_eng_string()\n",
    "    return x\n",
    "\n",
    "df = df_num.applymap(conv_num_to_eng_string)\n",
    "print(df)\n"
   ]
  },
  {
   "cell_type": "markdown",
   "metadata": {},
   "source": [
    "# データを追加する\n",
    "    - 行を追加していく（列の項目を先に決めておく）\n"
   ]
  },
  {
   "cell_type": "code",
   "execution_count": null,
   "metadata": {},
   "outputs": [],
   "source": [
    "\n",
    "import pandas as pd\n",
    "#  add_row_by_append()\n",
    "\"\"\" \n",
    "appendを使う方法。\n",
    "pandasnoversionによってはwarningが出る。\n",
    "\"\"\"\n",
    "# 列の項目だけ定義した空のデータテーブルを作る\n",
    "df = pd.DataFrame(\n",
    "    columns=['測定条件', 'データA', 'データB']\n",
    ")\n",
    "\n",
    "# 行のデータをリストに格納する。csvか何かからデータを取ってきた想定。\n",
    "row0 = ['室温', 100.0, 1e-3]\n",
    "row1 = ['50℃', 3000.43, 5.5e-6]\n",
    "row2 = ['0℃', 10.26347, 8888e12]\n",
    "rows = [\n",
    "    row0,\n",
    "    row1,\n",
    "    row2\n",
    "    ]\n",
    "\n",
    "# 行を追加していく\n",
    "for row in rows:\n",
    "    temp_series = pd.Series(row, index=df.columns)\n",
    "    df = df.append(temp_series, ignore_index=True)\n",
    "\n",
    "print(df)\n"
   ]
  },
  {
   "cell_type": "code",
   "execution_count": null,
   "metadata": {},
   "outputs": [],
   "source": [
    "import pandas as pd\n",
    "#  add_row_by_loc()\n",
    "\"\"\" \n",
    "appendを使う方法。\n",
    "pandasnoversionによってはwarningが出る。\n",
    "\"\"\"\n",
    "# 列の項目だけ定義した空のデータテーブルを作る\n",
    "df = pd.DataFrame(\n",
    "    columns=['測定条件', 'データA', 'データB']\n",
    ")\n",
    "\n",
    "# 行のデータをリストに格納する。csvか何かからデータを取ってきた想定。\n",
    "row0 = ['室温', 100.0, 1e-3]\n",
    "row1 = ['50℃', 3000.43, 5.5e-6]\n",
    "row2 = ['0℃', 10.26347, 8888e12]\n",
    "rows = [\n",
    "    row0,\n",
    "    row1,\n",
    "    row2\n",
    "]\n",
    "\n",
    "# 行を追加していく\n",
    "for row in rows:\n",
    "    temp_series = pd.Series(row, index=df.columns)\n",
    "    df = df.append(temp_series, ignore_index=True)\n",
    "\n",
    "print(df)\n"
   ]
  },
  {
   "cell_type": "code",
   "execution_count": null,
   "metadata": {},
   "outputs": [],
   "source": [
    "import pandas as pd\n",
    "\"\"\" locを使う方法。dfの後ろに追加していく\n",
    "\"\"\"\n",
    "# 列の項目だけ定義した空のデータテーブルを作る\n",
    "df = pd.DataFrame(\n",
    "    columns=['測定条件', 'データA', 'データB']\n",
    ")\n",
    "\n",
    "# 行のデータをリストに格納する。csvか何かからデータを取ってきた想定。\n",
    "row0 = ['室温', 100.0, 1e-3]\n",
    "row1 = ['50℃', 3000.43, 5.5e-6]\n",
    "row2 = ['0℃', 10.26347, 8888e12]\n",
    "rows = [\n",
    "    row0,\n",
    "    row1,\n",
    "    row2\n",
    "]\n",
    "\n",
    "# 行を追加していく\n",
    "len_df = len(df)\n",
    "for i, row in enumerate(rows):\n",
    "    df.loc[i + len_df] = row\n",
    "\n",
    "print(df)\n"
   ]
  },
  {
   "cell_type": "markdown",
   "metadata": {},
   "source": [
    "- 列を追加していく（行の項目を先に決めておく）\n",
    "\n",
    "後日\n"
   ]
  },
  {
   "cell_type": "markdown",
   "metadata": {},
   "source": [
    "# データを変更する\n",
    "    - セルを選択して値を変更する\n",
    "        後日\n",
    "    - 関数を適用する\n",
    "        後日\n"
   ]
  },
  {
   "cell_type": "markdown",
   "metadata": {},
   "source": [
    "\n",
    "# 集計\n",
    "    - 列の要素をカウントする\n"
   ]
  },
  {
   "cell_type": "code",
   "execution_count": null,
   "metadata": {},
   "outputs": [],
   "source": [
    "\n",
    "# 要素がindex、出現個数をdataとするSeriesが返る\n",
    "vc = df_str['列0'].value_counts()\n",
    "\n",
    "# indexのリストを取得する\n",
    "vc.index.values.tolist()\n"
   ]
  },
  {
   "cell_type": "markdown",
   "metadata": {},
   "source": [
    "# データを抽出する\n",
    "    query は知っていて損はないけど、文字列検索の使い勝手が悪いから、\n",
    "    ここに示すブールインデックスでの抽出に絞って使うようにしたほうが使いまわしができる。\n",
    "\n",
    "    それから、条件文は括弧でくくることをクセづけたほうが良い。\n",
    "    ダサくても余計なエラーで時間を取られて仕事が進まないよりはましでしょう。\n",
    "\n",
    "    - 条件に合う行・列を抽出する"
   ]
  },
  {
   "cell_type": "code",
   "execution_count": null,
   "metadata": {},
   "outputs": [],
   "source": [
    "# hoge列が100の行を抽出する\n",
    "df_ = df_num[\n",
    "    (df_num['列0'] == 0)\n",
    "]\n",
    "print(df_)\n"
   ]
  },
  {
   "cell_type": "markdown",
   "metadata": {},
   "source": [
    "## Requirement\n",
    "- python3  \n",
    "    - Python 3.8.1 で動作確認\n",
    "    - pandas\n",
    "\n",
    "## Licence\n",
    "\n",
    "[MIT](https://github.com/shka86/foo/blob/master/LICENCE)\n",
    "\n",
    "## Author\n",
    "\n",
    "[shka86](https://github.com/shka86)"
   ]
  }
 ],
 "metadata": {
  "interpreter": {
   "hash": "b60e327d50ed05d49bdd7dd56b21e38d5107a1273dbc3617d8cf10c9f7087797"
  },
  "kernelspec": {
   "display_name": "Python 3.8.1 32-bit",
   "language": "python",
   "name": "python3"
  },
  "language_info": {
   "codemirror_mode": {
    "name": "ipython",
    "version": 3
   },
   "file_extension": ".py",
   "mimetype": "text/x-python",
   "name": "python",
   "nbconvert_exporter": "python",
   "pygments_lexer": "ipython3",
   "version": "3.8.1"
  },
  "orig_nbformat": 4
 },
 "nbformat": 4,
 "nbformat_minor": 2
}
