{
 "cells": [
  {
   "cell_type": "markdown",
   "metadata": {},
   "source": [
    "# pandasめも  \n",
    "\n",
    "pandasは高機能なのでググるとたくさんの情報が出てくる。\n",
    "目的は同じでもやり方は多様だから、毎回調べていると一向に定着しないし、メンテナンスもしんどくなってくる。\n",
    "よってお決まりの方法をいくつか記録しておく。\n",
    "\n",
    "\n",
    "あくまでpythonを仕事の効率化ツールとして使うことを想定している。\n",
    "細かい例外処理や速度の観点はあまり重要視していない。\n",
    "それらが求められる場面に出くわしたらその時に考えりゃいい。\n",
    "\n",
    "\n",
    "- 表示を整える\n",
    "    手間なしで他人に見せられるように見栄えを整える。\n",
    "\n",
    "- データを追加する\n",
    "    - 行を追加していく（列の項目を先に決めておく）\n",
    "    - 列を追加していく（行の項目を先に決めておく）\n",
    "\n",
    "- データを変更する\n",
    "    - セルを選択して値を変更する\n",
    "    - 関数を適用する\n",
    "\n",
    "- 集計\n",
    "    - 列の要素をカウントする\n",
    "\n",
    "- データを抽出する\n",
    "    - 条件に合う行・列を抽出する\n",
    "\n",
    "- データフレームの結合\n",
    "\n"
   ]
  },
  {
   "cell_type": "code",
   "execution_count": null,
   "metadata": {},
   "outputs": [],
   "source": [
    "import pandas as pd\n",
    "\n",
    "# サンプルデータ 文字列系\n",
    "df_str = pd.DataFrame(\n",
    "    index=['行0', '行1', '行2'],\n",
    "    columns=['列0', '列1', '列2'],\n",
    "    data=[\n",
    "        ['行0列0', '行0列1', '行0列2'],\n",
    "        ['行1列0', '行1列1', '行1列2'],\n",
    "        ['行2列0', '行2列1', '行2列2'],\n",
    "    ]\n",
    ")\n",
    "\n",
    "print(df_str)\n"
   ]
  },
  {
   "cell_type": "code",
   "execution_count": null,
   "metadata": {},
   "outputs": [],
   "source": [
    "import pandas as pd\n",
    "\n",
    "# サンプルデータ 数値系\n",
    "df_num = pd.DataFrame(\n",
    "    index=['行0', '行1', '行2'],\n",
    "    columns=['列0', '列1', '列2'],\n",
    "    data=[\n",
    "        [0, 1, 2],\n",
    "        [0.0, 11.1, 0.00022],\n",
    "        [0e0, 1e-15, 2e9],\n",
    "    ]\n",
    ")\n",
    "\n",
    "print(df_num)\n"
   ]
  },
  {
   "cell_type": "markdown",
   "metadata": {},
   "source": [
    "## 表示を整える"
   ]
  },
  {
   "cell_type": "code",
   "execution_count": null,
   "metadata": {},
   "outputs": [],
   "source": [
    "# 有効数字(小数点以下をそろえる)\n",
    "pd.options.display.float_format = '{:.3f}'.format\n",
    "print(df_num)"
   ]
  },
  {
   "cell_type": "code",
   "execution_count": null,
   "metadata": {},
   "outputs": [],
   "source": [
    "# 有効数字(全体の桁数をそろえる)\n",
    "pd.options.display.float_format = '{:.6g}'.format\n",
    "print(df_num)"
   ]
  },
  {
   "cell_type": "code",
   "execution_count": null,
   "metadata": {},
   "outputs": [],
   "source": [
    "# 表示を省略しない\n",
    "# デフォルトでは、大きなテーブルの真ん中が省略されるが、それを略さずに表示する。\n",
    "pd.options.display.max_rows = None"
   ]
  },
  {
   "cell_type": "code",
   "execution_count": null,
   "metadata": {},
   "outputs": [],
   "source": [
    "# アライメント系\n",
    "\n",
    "# 日本語の桁数をそろえる。formatで桁数をそろえるときに、\n",
    "# これを設定しないと2バイト文字が1文字でカウントされてずれる。\n",
    "pd.set_option('display.unicode.east_asian_width', True)\n",
    "\n",
    "# 左寄せ\n",
    "pd.options.display.colheader_justify = 'left'\n",
    "print(df_str)\n",
    "\n",
    "# 中寄せ\n",
    "pd.options.display.colheader_justify = 'center'\n",
    "print(df_str)\n",
    "\n",
    "# 右寄せ\n",
    "pd.options.display.colheader_justify = 'right'\n",
    "print(df_str)"
   ]
  },
  {
   "cell_type": "code",
   "execution_count": null,
   "metadata": {},
   "outputs": [],
   "source": [
    "# 工学的記数法/工学表記\n",
    "import decimal \n",
    "\n",
    "# pandasだと指数部分が e+02 とか e-07 とかになる。\n",
    "# キロとかマイクロとかの単位で表示してくれると楽なのに。\n",
    "# 多少無理やりだが decimal ライブラリを使う方法を用意しておく\n",
    "# ただし、全部が全部工学表記になるわけではなさそう。\n",
    "# 実は↓でいい説\n",
    "# pd.options.display.float_format = '{:.3g}'.format\n",
    "\n",
    "def conv_num_to_eng_string(x):\n",
    "    if type(x) in [int, float, complex]:\n",
    "        x = decimal.Decimal(str(x)).normalize().to_eng_string()\n",
    "    return x\n",
    "\n",
    "df = df_num.applymap(conv_num_to_eng_string)\n",
    "print(df)\n"
   ]
  },
  {
   "cell_type": "markdown",
   "metadata": {},
   "source": [
    "# データを追加する\n",
    "- 行を追加していく（列の項目を先に決めておく）\n"
   ]
  },
  {
   "cell_type": "code",
   "execution_count": null,
   "metadata": {},
   "outputs": [],
   "source": [
    "\n",
    "import pandas as pd\n",
    "#  add_row_by_append()\n",
    "\"\"\" \n",
    "appendを使う方法。\n",
    "pandasnoversionによってはwarningが出る。\n",
    "\"\"\"\n",
    "# 列の項目だけ定義した空のデータテーブルを作る\n",
    "df = pd.DataFrame(\n",
    "    columns=['測定条件', 'データA', 'データB']\n",
    ")\n",
    "\n",
    "# 行のデータをリストに格納する。csvか何かからデータを取ってきた想定。\n",
    "row0 = ['室温', 100.0, 1e-3]\n",
    "row1 = ['50℃', 3000.43, 5.5e-6]\n",
    "row2 = ['0℃', 10.26347, 8888e12]\n",
    "rows = [\n",
    "    row0,\n",
    "    row1,\n",
    "    row2\n",
    "    ]\n",
    "\n",
    "# 行を追加していく\n",
    "for row in rows:\n",
    "    temp_series = pd.Series(row, index=df.columns)\n",
    "    df = df.append(temp_series, ignore_index=True)\n",
    "\n",
    "print(df)\n"
   ]
  },
  {
   "cell_type": "code",
   "execution_count": null,
   "metadata": {},
   "outputs": [],
   "source": [
    "import pandas as pd\n",
    "#  add_row_by_loc()\n",
    "\"\"\" \n",
    "appendを使う方法。\n",
    "pandasnoversionによってはwarningが出る。\n",
    "\"\"\"\n",
    "# 列の項目だけ定義した空のデータテーブルを作る\n",
    "df = pd.DataFrame(\n",
    "    columns=['測定条件', 'データA', 'データB']\n",
    ")\n",
    "\n",
    "# 行のデータをリストに格納する。csvか何かからデータを取ってきた想定。\n",
    "row0 = ['室温', 100.0, 1e-3]\n",
    "row1 = ['50℃', 3000.43, 5.5e-6]\n",
    "row2 = ['0℃', 10.26347, 8888e12]\n",
    "rows = [\n",
    "    row0,\n",
    "    row1,\n",
    "    row2\n",
    "]\n",
    "\n",
    "# 行を追加していく\n",
    "for row in rows:\n",
    "    temp_series = pd.Series(row, index=df.columns)\n",
    "    df = df.append(temp_series, ignore_index=True)\n",
    "\n",
    "print(df)\n"
   ]
  },
  {
   "cell_type": "code",
   "execution_count": null,
   "metadata": {},
   "outputs": [],
   "source": [
    "import pandas as pd\n",
    "\"\"\" locを使う方法。dfの後ろに追加していく\n",
    "\"\"\"\n",
    "# 列の項目だけ定義した空のデータテーブルを作る\n",
    "df = pd.DataFrame(\n",
    "    columns=['測定条件', 'データA', 'データB']\n",
    ")\n",
    "\n",
    "# 行のデータをリストに格納する。csvか何かからデータを取ってきた想定。\n",
    "row0 = ['室温', 100.0, 1e-3]\n",
    "row1 = ['50℃', 3000.43, 5.5e-6]\n",
    "row2 = ['0℃', 10.26347, 8888e12]\n",
    "rows = [\n",
    "    row0,\n",
    "    row1,\n",
    "    row2\n",
    "]\n",
    "\n",
    "# 行を追加していく\n",
    "len_df = len(df)\n",
    "for i, row in enumerate(rows):\n",
    "    df.loc[i + len_df] = row\n",
    "\n",
    "print(df)\n"
   ]
  },
  {
   "cell_type": "code",
   "execution_count": null,
   "metadata": {},
   "outputs": [],
   "source": [
    "import pandas as pd\n",
    "\"\"\" 二次元listからデータフレームに変換する方法。\n",
    "\"\"\"\n",
    "\n",
    "# 行のデータをリストに格納する。csvか何かからデータを取ってきた想定。\n",
    "row0 = ['室温', 100.0, 1e-3]\n",
    "row1 = ['50℃', 3000.43, 5.5e-6]\n",
    "row2 = ['0℃', 10.26347, 8888e12]\n",
    "rows = [\n",
    "    row0,\n",
    "    row1,\n",
    "    row2\n",
    "]\n",
    "\n",
    "# 行を追加していく\n",
    "df = pd.DataFrame(\n",
    "    rows,\n",
    "    columns=['測定条件', 'データA', 'データB']\n",
    ")\n",
    "\n",
    "print(df)\n"
   ]
  },
  {
   "cell_type": "markdown",
   "metadata": {},
   "source": [
    "- 列を追加していく（行の項目を先に決めておく）  \n",
    "    転置すれば行追加で対応できるので、基本的に行追加できる形式に持っていく。\n",
    "    どうしても必要になったら調べる。"
   ]
  },
  {
   "cell_type": "markdown",
   "metadata": {},
   "source": [
    "# データを変更する\n",
    "- セルを選択して値を変更する  "
   ]
  },
  {
   "cell_type": "code",
   "execution_count": null,
   "metadata": {},
   "outputs": [],
   "source": [
    "import pandas as pd\n",
    "\n",
    "# サンプルデータ 文字列系\n",
    "df_str = pd.DataFrame(\n",
    "    index=['行0', '行1', '行2'],\n",
    "    columns=['列0', '列1', '列2'],\n",
    "    data=[\n",
    "        ['行0列0', '行0列1', '行0列2'],\n",
    "        ['行1列0', '行1列1', '行1列2'],\n",
    "        ['行2列0', '行2列1', '行2列2'],\n",
    "    ]\n",
    ")\n",
    "\n",
    "print(df_str)"
   ]
  },
  {
   "cell_type": "code",
   "execution_count": null,
   "metadata": {},
   "outputs": [],
   "source": [
    "\n",
    "# 行番号、列番号で指定する場合。\n",
    "# iatとilocの2種類がある。iatのほうが速いらしい。\n",
    "df_str.iat[0, 1] = \"iatで変更した！\"\n",
    "print(df_str)\n",
    "\n",
    "df_str.iloc[0, 1] = \"ilocで変更した！\"\n",
    "print(df_str)"
   ]
  },
  {
   "cell_type": "code",
   "execution_count": null,
   "metadata": {},
   "outputs": [],
   "source": [
    "# 行名、列名で指定する場合。\n",
    "# atとlocの2種類がある。atのほうが速いらしい。\n",
    "df_str.at[\"行0\", \"列1\"] = \"atで変更した！\"\n",
    "print(df_str)\n",
    "\n",
    "df_str.loc[\"行0\", \"列1\"] = \"locで変更した！\"\n",
    "print(df_str)"
   ]
  },
  {
   "cell_type": "code",
   "execution_count": null,
   "metadata": {},
   "outputs": [],
   "source": [
    "\n",
    "# 行番号と列名で指定したい場合\n",
    "\n",
    "# 行名がないdfに変更する\n",
    "# drop=True でもともとついているindexを削除する。Falseだとindexが2重になる。Multiindexっていうのかな？階層ごとに集計できるなど利点がある。後で勉強するか。\n",
    "print(\"index を振りなおす\")\n",
    "df_str = df_str.reset_index(drop=True)\n",
    "print(df_str)\n",
    "\n",
    "# 行が番号なので、列も番号にすればOK。\n",
    "# 列名から列番号を取得するために get_loc() を使用する。\n",
    "# 列番号は df.columns.get_loc()\n",
    "# 行番号は df.index.get_loc() 今回は関係ないけど\n",
    "col = df_str.columns.get_loc('列1')\n",
    "df_str.iat[0, col] = \"iatで変更した！\"\n",
    "print(df_str)\n",
    "\n",
    "df_str.iloc[0, col] = \"ilocで変更した！\"\n",
    "print(df_str)\n"
   ]
  },
  {
   "cell_type": "markdown",
   "metadata": {},
   "source": [
    "- 関数を適用する  \n",
    "    - map : Series にのみ適用可能\n",
    "    - applymap : DataFrame にのみ適用可能\n",
    "    - apply : Series と DataFrame に適用可能  \n",
    "        一見どちらにも適用できて便利そうだけど、デフォルトでは戻り値が 行のリストが格納されたSeries になることに注意。\n",
    "        テーブル全体に関数を適用しようとすると result_type オプションを指定する必要がある。\n",
    "        面倒なので使わないのが吉。\n",
    "\n"
   ]
  },
  {
   "cell_type": "code",
   "execution_count": null,
   "metadata": {},
   "outputs": [],
   "source": [
    "import pandas as pd\n",
    "\n",
    "# サンプルデータ 文字列系\n",
    "df_str = pd.DataFrame(\n",
    "    index=['行0', '行1', '行2'],\n",
    "    columns=['列0', '列1', '列2'],\n",
    "    data=[\n",
    "        ['行0列0', '行0列1', '行0列2'],\n",
    "        ['行1列0', '行1列1', '行1列2'],\n",
    "        ['行2列0', '行2列1', '行2列2'],\n",
    "    ]\n",
    ")\n",
    "print(df_str)\n",
    "\n",
    "# 適用する関数\n",
    "def func1(x):\n",
    "    '''入力文字列 x の末尾に \"_mod\" を付けて返すだけ。\n",
    "        実際は数値の処理に置き換えるなどしてOK\n",
    "    '''\n",
    "    return f\"{x}_mod\"\n",
    "\n",
    "print(\"# map : 列に関数が適用される\")\n",
    "df_ = df_str['列0'].map(func1)\n",
    "print(df_)\n",
    "print(\"# map : 元のデータフレームに変更を適用したり、新しい列を追加することもできる\")\n",
    "df_str['列1'] = df_str['列0'].map(func1)\n",
    "df_str['列3'] = df_str['列0'].map(func1)\n",
    "print(df_str)\n",
    "\n",
    "print(\"# applymap : データフレーム全体に関数が適用される\")\n",
    "df_ = df_str.applymap(func1)\n",
    "print(df_)\n",
    "\n",
    "print(\"# apply : optionを指定しないと Series が返ってきてしまう。面倒。\")\n",
    "df_ = df_str.apply(func1)\n",
    "print(df_)\n",
    "\n",
    "\n",
    "print(\"# lambda式でもOK\")\n",
    "df_str['列1'] = df_str['列0'].map(lambda x: f\"{x}_by_lambda\")\n",
    "print(df_str)\n",
    "\n",
    "\n",
    "print(\"# 関数が複数の場合。lambda式を応用すればOK\")\n",
    "# 使う場面は多いんだけどググってもなかなか出てこない。別の方法があるってことなのかな？\n",
    "def func2(a, b):\n",
    "    return f\"{a}_{b}\"\n",
    "df_str['列1'] = df_str['列1'].map(lambda x: func2(x, \"fukusuu\"))\n",
    "print(df_str)\n"
   ]
  },
  {
   "cell_type": "markdown",
   "metadata": {},
   "source": [
    "\n",
    "# 集計\n",
    "- 列の要素をカウントする\n"
   ]
  },
  {
   "cell_type": "code",
   "execution_count": null,
   "metadata": {},
   "outputs": [],
   "source": [
    "\n",
    "# 要素がindex、出現個数をdataとするSeriesが返る\n",
    "vc = df_str['列0'].value_counts()\n",
    "\n",
    "# indexのリストを取得する\n",
    "vc.index.values.tolist()\n"
   ]
  },
  {
   "cell_type": "markdown",
   "metadata": {},
   "source": [
    "# データを抽出する\n",
    "query は知っていて損はないけど、文字列検索の使い勝手が悪いから、\n",
    "ここに示すブールインデックスでの抽出に絞って使うようにしたほうが使いまわしができる。\n",
    "\n",
    "それから、条件文は括弧でくくることをクセづけたほうが良い。\n",
    "ダサくても余計なエラーで時間を取られて仕事が進まないよりはましでしょう。\n",
    "\n",
    "- 条件に合う行・列を抽出する"
   ]
  },
  {
   "cell_type": "code",
   "execution_count": null,
   "metadata": {},
   "outputs": [],
   "source": [
    "# hoge列が100の行を抽出する\n",
    "df_ = df_num[\n",
    "    (df_num['列0'] == 0)\n",
    "]\n",
    "print(df_)\n"
   ]
  },
  {
   "cell_type": "markdown",
   "metadata": {},
   "source": [
    "# データフレームの結合\n",
    "\n",
    "列名がそろっているデータフレーム同士を縦につなげる。"
   ]
  },
  {
   "cell_type": "code",
   "execution_count": null,
   "metadata": {},
   "outputs": [],
   "source": [
    "import pandas as pd\n",
    "# サンプルデータ\n",
    "df_A = pd.DataFrame(\n",
    "    index=['A0', 'A1', 'A2'],\n",
    "    columns=['列0', '列1', '列2'],\n",
    "    data=[\n",
    "        ['A0列0', 'A0列1', 'A0列2'],\n",
    "        ['A1列0', 'A1列1', 'A1列2'],\n",
    "        ['A2列0', 'A2列1', 'A2列2'],\n",
    "    ]\n",
    ")\n",
    "\n",
    "df_B = pd.DataFrame(\n",
    "    index=['B0', 'B1', 'B2'],\n",
    "    columns=['列0', '列1', '列2'],\n",
    "    data=[\n",
    "        ['B0列0', 'B0列1', 'B0列2'],\n",
    "        ['B1列0', 'B1列1', 'B1列2'],\n",
    "        ['B2列0', 'B2列1', 'B2列2'],\n",
    "    ]\n",
    ")\n",
    "\n",
    "print(df_A)\n",
    "print(df_B)\n",
    "\n",
    "# 縦方向の結合\n",
    "df_AB_vertical = pd.concat(\n",
    "    [df_A, df_B],\n",
    "    ignore_index=True\n",
    ")\n",
    "\n",
    "print(df_AB_vertical)"
   ]
  },
  {
   "cell_type": "markdown",
   "metadata": {},
   "source": [
    "## Requirement\n",
    "- python3  \n",
    "    - Python 3.8.1 で動作確認\n",
    "    - pandas\n",
    "\n",
    "## Licence\n",
    "\n",
    "[MIT](https://github.com/shka86/foo/blob/master/LICENCE)\n",
    "\n",
    "## Author\n",
    "\n",
    "[shka86](https://github.com/shka86)"
   ]
  }
 ],
 "metadata": {
  "interpreter": {
   "hash": "b60e327d50ed05d49bdd7dd56b21e38d5107a1273dbc3617d8cf10c9f7087797"
  },
  "kernelspec": {
   "display_name": "Python 3.8.1 32-bit",
   "language": "python",
   "name": "python3"
  },
  "language_info": {
   "codemirror_mode": {
    "name": "ipython",
    "version": 3
   },
   "file_extension": ".py",
   "mimetype": "text/x-python",
   "name": "python",
   "nbconvert_exporter": "python",
   "pygments_lexer": "ipython3",
   "version": "3.8.1"
  },
  "orig_nbformat": 4
 },
 "nbformat": 4,
 "nbformat_minor": 2
}
